{
 "cells": [
  {
   "cell_type": "code",
   "execution_count": 1,
   "id": "d3588f2a-2fc5-467a-8447-84fb3ebf0155",
   "metadata": {},
   "outputs": [],
   "source": [
    "import pandas as pd\n",
    "import numpy as np\n",
    "from rdkit import Chem\n",
    "from tqdm import tqdm\n",
    "import torch\n",
    "from sklearn.model_selection import train_test_split\n",
    "from torch_geometric.data import Data\n",
    "from rdkit.Chem import Descriptors, rdmolops\n",
    "import pickle\n",
    "import sys\n",
    "sys.path.append('../qmdesc')\n",
    "from qmdesc.handler import ReactivityDescriptorHandler"
   ]
  },
  {
   "cell_type": "code",
   "execution_count": 2,
   "id": "055138e1-a519-4029-955c-c914c9543ffd",
   "metadata": {},
   "outputs": [
    {
     "name": "stderr",
     "output_type": "stream",
     "text": [
      "100%|██████████| 72585/72585 [00:20<00:00, 3543.45it/s]\n"
     ]
    },
    {
     "data": {
      "text/plain": [
       "72585"
      ]
     },
     "execution_count": 2,
     "metadata": {},
     "output_type": "execute_result"
    }
   ],
   "source": [
    "#have to read the RDKit SMILES for index compatibility\n",
    "\n",
    "df = pd.read_csv('ligand_data_final.csv')\n",
    "df = df.loc[df['Hemilabile'] == False]\n",
    "\n",
    "#Convert to Mol objects\n",
    "from rdkit import RDLogger\n",
    "RDLogger.DisableLog('rdApp.*')\n",
    "\n",
    "labels = []\n",
    "mol_ls = []\n",
    "for i, x in tqdm(df.iterrows(), total=len(df)):\n",
    "    try:\n",
    "        mol = Chem.MolFromSmiles(x['SMILES_without_X_rdkit'])\n",
    "        label_ls = [int(j) for j in x['Padded_catoms_rdkit'].strip('[]').replace(',', '').split()]\n",
    "        mol_ls.append(mol)\n",
    "        labels.append(label_ls)\n",
    "    except:\n",
    "        pass\n",
    "len(mol_ls)"
   ]
  },
  {
   "cell_type": "code",
   "execution_count": 3,
   "id": "dcb1e791-0c99-4c96-a929-f3336021cf28",
   "metadata": {},
   "outputs": [
    {
     "name": "stderr",
     "output_type": "stream",
     "text": [
      "100%|██████████| 72585/72585 [00:08<00:00, 8156.91it/s]\n"
     ]
    },
    {
     "data": {
      "text/plain": [
       "(46719, 0)"
      ]
     },
     "execution_count": 3,
     "metadata": {},
     "output_type": "execute_result"
    }
   ],
   "source": [
    "allowed_atoms = {1, 6, 7, 8, 9, 15, 16, 17, 35, 53} #H, C, N, O, F, P, S, Cl, Br, I\n",
    "filtered_mol_ls = []\n",
    "filtered_labels = []\n",
    "num_failed = 0\n",
    "\n",
    "#Filter: ensure atoms are those specified above, no radicals (RDKit kekulized correctly)\n",
    "#Ensure no trivial (1-heavy-atom) ligands, no heavily charged ligands, and ligand size less than 50\n",
    "\n",
    "for i in tqdm(range(len(mol_ls))):\n",
    "    #Some of the mol objects fail to generate, skip over those here\n",
    "    if mol_ls[i] is None:\n",
    "        num_failed += 1\n",
    "        continue\n",
    "    atom_list = [a.GetAtomicNum() for a in mol_ls[i].GetAtoms()]\n",
    "    if set(atom_list).issubset(allowed_atoms) and \\\n",
    "        Descriptors.NumRadicalElectrons(mol_ls[i]) == 0 and\\\n",
    "        len(atom_list) >= 2 and \\\n",
    "        Chem.GetFormalCharge(mol_ls[i]) <= 2 and Chem.GetFormalCharge(mol_ls[i]) >= -4 and \\\n",
    "        len(atom_list) <= 50:\n",
    "        filtered_mol_ls.append(mol_ls[i])\n",
    "        filtered_labels.append(labels[i])\n",
    "len(filtered_mol_ls), num_failed"
   ]
  },
  {
   "cell_type": "code",
   "execution_count": 4,
   "id": "0b4c89da-3406-4c26-9b03-4d4d6dbf5457",
   "metadata": {},
   "outputs": [
    {
     "data": {
      "image/png": "[encoded data removed]",
      "text/plain": [
       "<rdkit.Chem.rdchem.Mol at 0x7f4a128d8c80>"
      ]
     },
     "execution_count": 4,
     "metadata": {},
     "output_type": "execute_result"
    }
   ],
   "source": [
    "test = filtered_mol_ls[0]\n",
    "test"
   ]
  },
  {
   "cell_type": "code",
   "execution_count": 5,
   "id": "5042cdd4-c626-40ca-aed8-9bacd838a0b1",
   "metadata": {},
   "outputs": [
    {
     "data": {
      "text/plain": [
       "40"
      ]
     },
     "execution_count": 5,
     "metadata": {},
     "output_type": "execute_result"
    }
   ],
   "source": [
    "test.GetNumAtoms()"
   ]
  },
  {
   "cell_type": "code",
   "execution_count": 7,
   "id": "ec14796b-42cd-41c0-baff-c3d92f45ddcf",
   "metadata": {},
   "outputs": [
    {
     "data": {
      "text/plain": [
       "40"
      ]
     },
     "execution_count": 7,
     "metadata": {},
     "output_type": "execute_result"
    }
   ],
   "source": [
    "len(results['partial_charge'])"
   ]
  },
  {
   "cell_type": "code",
   "execution_count": 6,
   "id": "2474ce53-4bf9-4e87-8263-ec2ad5331ef0",
   "metadata": {},
   "outputs": [
    {
     "data": {
      "text/plain": [
       "{'smiles': 'CCC1=C(CC)c2cc3[n-]c(cc4nc(cc5[n-]c(cc1n2)c(CC)c5CC)C(CC)=C4CC)c(CC)c3CC',\n",
       " 'partial_charge': array([ 0.03270729,  0.03327773, -0.01462394, -0.01462394,  0.03327773,\n",
       "         0.03270729,  0.0362875 , -0.01064982,  0.03729194, -0.21129224,\n",
       "         0.03729195, -0.01064984,  0.03628749, -0.1471339 ,  0.03628749,\n",
       "        -0.01064982,  0.03729194, -0.21129227,  0.03729195, -0.01064983,\n",
       "         0.03628751, -0.1471339 , -0.00504876,  0.03791485,  0.03205629,\n",
       "        -0.00504876,  0.03791486,  0.0320563 , -0.01462394,  0.03327772,\n",
       "         0.03270728, -0.01462394,  0.03327771,  0.03270729, -0.00504874,\n",
       "         0.03791486,  0.03205629, -0.00504876,  0.03791485,  0.0320563 ],\n",
       "       dtype=float32),\n",
       " 'fukui_neu': array([ 0.00393122,  0.00031168,  0.06010207,  0.06010207,  0.00031168,\n",
       "         0.00393122,  0.02748289,  0.02088269,  0.01483827,  0.11349288,\n",
       "         0.01483827,  0.02088268,  0.02748289,  0.04035588,  0.02748289,\n",
       "         0.02088269,  0.01483827,  0.11349287,  0.01483827,  0.02088269,\n",
       "         0.02748289,  0.04035587,  0.04135698, -0.00042848,  0.00459834,\n",
       "         0.04135697, -0.00042848,  0.00459834,  0.06010208,  0.00031168,\n",
       "         0.00393122,  0.06010207,  0.00031168,  0.00393122,  0.04135697,\n",
       "        -0.00042848,  0.00459834,  0.04135697, -0.00042848,  0.00459834],\n",
       "       dtype=float32),\n",
       " 'fukui_elec': array([ 0.00935089, -0.00020859,  0.05021083,  0.05021083, -0.00020859,\n",
       "         0.00935089,  0.02564478,  0.02565028,  0.02991581,  0.05374282,\n",
       "         0.02991582,  0.02565027,  0.02564477,  0.0516374 ,  0.02564478,\n",
       "         0.02565028,  0.02991582,  0.0537428 ,  0.02991583,  0.02565028,\n",
       "         0.02564478,  0.05163739,  0.04707853,  0.00152354,  0.00814383,\n",
       "         0.04707853,  0.00152354,  0.00814383,  0.05021083, -0.00020859,\n",
       "         0.00935089,  0.05021084, -0.00020859,  0.00935089,  0.04707853,\n",
       "         0.00152354,  0.00814383,  0.04707853,  0.00152354,  0.00814383],\n",
       "       dtype=float32),\n",
       " 'NMR': array([ 97.91349  , 131.73344  ,  49.010742 ,  49.010742 , 131.73344  ,\n",
       "         97.91349  ,  39.229816 ,  33.76276  ,  45.552185 ,  -2.430266 ,\n",
       "         45.552185 ,  33.76276  ,  39.229813 , -19.71397  ,  39.22982  ,\n",
       "         33.762756 ,  45.552185 ,  -2.4302673,  45.55219  ,  33.76276  ,\n",
       "         39.22981  , -19.713974 ,  53.980473 , 122.82488  ,  97.06974  ,\n",
       "         53.980473 , 122.82488  ,  97.06975  ,  49.01074  , 131.73344  ,\n",
       "         97.91348  ,  49.010742 , 131.73344  ,  97.91348  ,  53.980473 ,\n",
       "        122.82488  ,  97.06975  ,  53.980473 , 122.824875 ,  97.06975  ],\n",
       "       dtype=float32),\n",
       " 'bond_order': array([0.9795791, 0.9899518, 1.6976172, 0.9870564, 0.960797 , 1.0510273,\n",
       "        1.2495952, 1.1681149, 1.3720814, 1.3654408, 1.1768126, 1.2591777,\n",
       "        1.3000206, 1.3260168, 1.2495952, 1.1681149, 1.3720814, 1.3654408,\n",
       "        1.1768126, 1.2591777, 1.3000206, 1.1076026, 0.9910534, 0.9650953,\n",
       "        1.6294659, 0.9910534, 0.9650953, 1.044221 , 0.9870564, 0.960797 ,\n",
       "        1.6976173, 0.9870564, 0.960797 , 1.1076026, 0.9910534, 0.9650953,\n",
       "        1.629466 , 0.9910534, 0.9650953, 1.0510273, 1.3000206, 1.1076026,\n",
       "        1.044221 , 1.1076026], dtype=float32),\n",
       " 'bond_length': array([1.5190251, 1.5014901, 1.3479896, 1.5026098, 1.5331777, 1.4617188,\n",
       "        1.4117808, 1.4262435, 1.3254089, 1.3187194, 1.4318157, 1.4008632,\n",
       "        1.3353958, 1.3253466, 1.4117808, 1.4262435, 1.3254089, 1.3187194,\n",
       "        1.4318157, 1.4008632, 1.3353958, 1.4421736, 1.5054631, 1.5337029,\n",
       "        1.356533 , 1.5054631, 1.5337027, 1.4586436, 1.5026098, 1.5331777,\n",
       "        1.3479896, 1.5026098, 1.5331777, 1.4421736, 1.5054631, 1.5337027,\n",
       "        1.356533 , 1.5054631, 1.5337029, 1.4617187, 1.3353958, 1.4421736,\n",
       "        1.4586436, 1.4421736], dtype=float32)}"
      ]
     },
     "execution_count": 6,
     "metadata": {},
     "output_type": "execute_result"
    }
   ],
   "source": [
    "handler = ReactivityDescriptorHandler()\n",
    "results = handler.predict(Chem.MolToSmiles(test))\n",
    "results"
   ]
  }
 ],
 "metadata": {
  "kernelspec": {
   "display_name": "Python 3 (ipykernel)",
   "language": "python",
   "name": "python3"
  },
  "language_info": {
   "codemirror_mode": {
    "name": "ipython",
    "version": 3
   },
   "file_extension": ".py",
   "mimetype": "text/x-python",
   "name": "python",
   "nbconvert_exporter": "python",
   "pygments_lexer": "ipython3",
   "version": "3.10.12"
  }
 },
 "nbformat": 4,
 "nbformat_minor": 5
}
