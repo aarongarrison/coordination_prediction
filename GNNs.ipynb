{
 "cells": [
  {
   "cell_type": "code",
   "execution_count": 9,
   "id": "afc48223-a825-4a79-802e-cb9c866c3c76",
   "metadata": {},
   "outputs": [],
   "source": [
    "import numpy as np\n",
    "import matplotlib.pyplot as plt\n",
    "import pandas as pd\n",
    "from tqdm import tqdm\n",
    "import pickle\n",
    "\n",
    "import torch\n",
    "from torch_geometric.data import Data\n",
    "from torch_geometric.loader import DataLoader\n",
    "import torch_geometric\n",
    "from torchsummary import summary\n",
    "import torch_scatter\n",
    "\n",
    "from rdkit import Chem\n",
    "from rdkit.Chem import Descriptors, rdmolops\n",
    "\n",
    "from sklearn.model_selection import train_test_split\n",
    "\n",
    "# Load data\n",
    "with open('filtered_labels.pkl', 'rb') as f:\n",
    "    filtered_labels = pickle.load(f)\n",
    "with open('filtered_mol_ls.pkl', 'rb') as f:\n",
    "    filtered_mol_ls = pickle.load(f)"
   ]
  },
  {
   "cell_type": "code",
   "execution_count": 21,
   "id": "b930f6de-f95e-44f6-b33a-120b861dff58",
   "metadata": {},
   "outputs": [
    {
     "data": {
      "text/plain": [
       "1.008"
      ]
     },
     "execution_count": 21,
     "metadata": {},
     "output_type": "execute_result"
    }
   ],
   "source": [
    "\n",
    "pt.GetAtomicWeight(1)"
   ]
  },
  {
   "cell_type": "code",
   "execution_count": 22,
   "id": "190c2e27-d793-49bb-8eac-b1abc561e4d9",
   "metadata": {},
   "outputs": [
    {
     "data": {
      "text/plain": [
       "5"
      ]
     },
     "execution_count": 22,
     "metadata": {},
     "output_type": "execute_result"
    }
   ],
   "source": [
    "pt.GetNOuterElecs(15)"
   ]
  },
  {
   "cell_type": "code",
   "execution_count": 23,
   "id": "f9be90ed-474e-4203-b773-5f4127ffd2d0",
   "metadata": {},
   "outputs": [
    {
     "data": {
      "text/plain": [
       "{1: -0.9888268156424579,\n",
       " 6: -0.5977653631284918,\n",
       " 7: -0.05027932960893844,\n",
       " 8: 0.3966480446927374,\n",
       " 9: 1.0,\n",
       " 15: -1.0,\n",
       " 16: -0.5642458100558658,\n",
       " 17: 0.08379888268156455,\n",
       " 35: -0.13966480446927376,\n",
       " 53: -0.4748603351955305}"
      ]
     },
     "execution_count": 23,
     "metadata": {},
     "output_type": "execute_result"
    }
   ],
   "source": [
    "def normalize_bw_neg1and1(dictionary: dict):\n",
    "    values = list(dictionary.values())\n",
    "    for k, v in dictionary.items():\n",
    "        dictionary[k] = 2*(v - min(values))/(max(values) - min(values)) - 1\n",
    "    return dictionary\n",
    "\n"
   ]
  },
  {
   "cell_type": "code",
   "execution_count": 29,
   "id": "17fdb5ad-0e1b-430f-a911-642239dd85d2",
   "metadata": {},
   "outputs": [],
   "source": [
    "covalent_radii = {i: pt.GetRcovalent(i) for i in allowed_atoms}"
   ]
  },
  {
   "cell_type": "code",
   "execution_count": 32,
   "id": "59481655-38d1-4f42-85a3-d8e0fdaf95fe",
   "metadata": {},
   "outputs": [
    {
     "name": "stderr",
     "output_type": "stream",
     "text": [
      "100%|██████████| 42026/42026 [00:11<00:00, 3535.01it/s]\n"
     ]
    },
    {
     "data": {
      "text/plain": [
       "(41996, 30)"
      ]
     },
     "execution_count": 32,
     "metadata": {},
     "output_type": "execute_result"
    }
   ],
   "source": [
    "order_string = {\n",
    "            Chem.rdchem.BondType.SINGLE: np.array([1, 0, 0, 0]),\n",
    "            Chem.rdchem.BondType.DOUBLE: np.array([0, 1, 0, 0]),\n",
    "            Chem.rdchem.BondType.TRIPLE: np.array([0, 0, 1, 0]),\n",
    "            Chem.rdchem.BondType.AROMATIC: np.array([0, 0, 0, 1]),\n",
    "}\n",
    "\n",
    "pt = Chem.GetPeriodicTable()\n",
    "\n",
    "allowed_atoms = [1, 6, 7, 8, 9, 15, 16, 17, 35, 53] #H, C, N, O, F, P, S, Cl, Br, I\n",
    "atoms_one_hot_key = np.eye(len(allowed_atoms))\n",
    "\n",
    "electronegativities = {\n",
    "    1: 2.2,\n",
    "    6: 2.55,\n",
    "    7: 3.04,\n",
    "    8: 3.44,\n",
    "    9: 3.98,\n",
    "    15: 2.19,\n",
    "    16: 2.58,\n",
    "    17: 3.16,\n",
    "    35: 2.96,\n",
    "    53: 2.66\n",
    "}\n",
    "\n",
    "ionization_energies = {\n",
    "    1: 13.6,\n",
    "    6: 11.3,\n",
    "    7: 14.5,\n",
    "    8: 13.6,\n",
    "    9: 17.4,\n",
    "    15: 10.5,\n",
    "    16: 10.4,\n",
    "    17: 13.0,\n",
    "    35: 11.8,\n",
    "    53: 10.45\n",
    "}\n",
    "\n",
    "valence_electrons = {\n",
    "    1:  1,\n",
    "    6:  4,\n",
    "    7:  5,\n",
    "    8:  6,\n",
    "    9:  7,\n",
    "    15: 5,\n",
    "    16: 6,\n",
    "    17: 7,\n",
    "    35: 7,\n",
    "    53: 7\n",
    "}\n",
    "\n",
    "covalent_radii = {i: pt.GetRcovalent(i) for i in allowed_atoms}\n",
    "atomic_mass = {i: pt.GetAtomicWeight(i) for i in allowed_atoms}\n",
    "\n",
    "def normalize_bw_neg1and1(dictionary: dict):\n",
    "    values = list(dictionary.values())\n",
    "    for k, v in dictionary.items():\n",
    "        dictionary[k] = 2*(v - min(values))/(max(values) - min(values)) - 1\n",
    "    return dictionary\n",
    "\n",
    "electronegativities = normalize_bw_neg1and1(electronegativities)\n",
    "ionization_energies = normalize_bw_neg1and1(ionization_energies)\n",
    "valence_electrons = normalize_bw_neg1and1(valence_electrons)\n",
    "covalent_radii = normalize_bw_neg1and1(covalent_radii)\n",
    "atomic_mass = normalize_bw_neg1and1(atomic_mass)\n",
    "\n",
    "def get_features(ligand, label):\n",
    "    #Get a list of atomic numbers for each ligand\n",
    "    atoms_one_hot = np.stack([atoms_one_hot_key[allowed_atoms.index(a.GetAtomicNum())] for a in ligand.GetAtoms()])\n",
    "    other_atom_features = [[electronegativities[a.GetAtomicNum()],\n",
    "                            ionization_energies[a.GetAtomicNum()],\n",
    "                            valence_electrons[a.GetAtomicNum()],\n",
    "                            covalent_radii[a.GetAtomicNum()],\n",
    "                            atomic_mass[a.GetAtomicNum()]] for a in ligand.GetAtoms()]\n",
    "    atom_features = np.hstack((atoms_one_hot, np.array(other_atom_features)))\n",
    "    \n",
    "    \n",
    "    #Get the number of atoms for each ligand\n",
    "    natoms = len(ligand.GetAtoms())\n",
    "    \n",
    "    #Get the adjacency matrix for each ligand\n",
    "    adj = rdmolops.GetAdjacencyMatrix(ligand)\n",
    "    \n",
    "    #Get the edge index list in COO format for each ligand\n",
    "    edge_index = (adj>0).nonzero()\n",
    "    \n",
    "    #Get the edge features (one-hot encoding of the bond type\n",
    "    feats = np.zeros((4, len(edge_index[0])))\n",
    "    for i in range(len(edge_index[0])):\n",
    "        feats[:, i] = order_string[ligand.GetBondBetweenAtoms(int(edge_index[0][i]), int(edge_index[1][i])).GetBondType()]\n",
    "    edge_feats = feats.T\n",
    "\n",
    "    #Get the probability of each atom being a connecting atom (0 or 1)\n",
    "    y = np.zeros(natoms)\n",
    "    y[np.array(label)] = 1\n",
    "\n",
    "    return atom_features, natoms, edge_index, edge_feats, y\n",
    "\n",
    "atom_features_list = []\n",
    "natom_list = []\n",
    "edge_index_list = []\n",
    "edge_feats_list = []\n",
    "y_list = []\n",
    "num_failed = 0\n",
    "\n",
    "for idx in tqdm(range(len(filtered_mol_ls))):\n",
    "    ligand = filtered_mol_ls[idx]\n",
    "    label = filtered_labels[idx]\n",
    "    try:\n",
    "        atom_features, natoms, edge_index, edge_feats, y = get_features(ligand, label)\n",
    "        atom_features_list.append(atom_features)\n",
    "        natom_list.append(natoms)\n",
    "        edge_index_list.append(edge_index)\n",
    "        edge_feats_list.append(edge_feats)\n",
    "        y_list.append(y)\n",
    "    except:\n",
    "        num_failed += 1\n",
    "\n",
    "len(atom_features_list), num_failed"
   ]
  },
  {
   "cell_type": "code",
   "execution_count": 33,
   "id": "6b8bc4b0-f47f-43d4-b2e8-798b0c4ec87e",
   "metadata": {},
   "outputs": [],
   "source": [
    "# train/test\n",
    "(train_atom_list, test_atom_list,\n",
    " train_natom_list, test_natom_list,\n",
    " train_edge_index_list, test_edge_index_list,\n",
    " train_edge_feats_list, test_edge_feats_list,\n",
    " train_y_list, test_y_list) = train_test_split(atom_features_list,\n",
    "                                               natom_list,\n",
    "                                               edge_index_list,\n",
    "                                               edge_feats_list,\n",
    "                                               y_list,\n",
    "                                               test_size=0.1, shuffle=True)\n",
    "# split train further into train + val\n",
    "(train_atom_list, val_atom_list,\n",
    " train_natom_list, val_natom_list,\n",
    " train_edge_index_list, val_edge_index_list,\n",
    " train_edge_feats_list, val_edge_feats_list,\n",
    " train_y_list, val_y_list) = train_test_split(train_atom_list,\n",
    "                                              train_natom_list,\n",
    "                                              train_edge_index_list,\n",
    "                                              train_edge_feats_list,\n",
    "                                              train_y_list,\n",
    "                                              test_size=1/9, shuffle=True)"
   ]
  },
  {
   "cell_type": "code",
   "execution_count": 34,
   "id": "0e588d84-224f-4b64-8d9a-5238bb0fe02b",
   "metadata": {},
   "outputs": [],
   "source": [
    "class LigandDataset():\n",
    "    def __init__(self, atom_list, natom_list, edge_index_list, edge_feats_list, y_list):\n",
    "        self.atom_list = atom_list\n",
    "        self.natom_list = natom_list\n",
    "        self.edge_index_list = edge_index_list\n",
    "        self.edge_feats_list = edge_feats_list\n",
    "        self.y_list = y_list\n",
    "        \n",
    "    def __len__(self):\n",
    "        return len(self.atom_list)\n",
    "        \n",
    "    def __getitem__(self, idx):\n",
    "        return Data(x=torch.Tensor(self.atom_list[idx]),\n",
    "                    natoms=torch.Tensor([self.natom_list[idx]]),\n",
    "                    edge_index=torch.Tensor(np.array(self.edge_index_list[idx])),\n",
    "                    edge_attr=torch.Tensor(self.edge_feats_list[idx]),\n",
    "                    # y=torch.Tensor(self.y_list[idx]).to(torch.long)\n",
    "                    y=torch.nn.functional.one_hot(torch.Tensor(self.y_list[idx]).to(torch.long), num_classes=2) # one-hot\n",
    "                   )\n",
    "\n",
    "train_data = LigandDataset(train_atom_list, train_natom_list, train_edge_index_list, train_edge_feats_list, train_y_list)\n",
    "test_data = LigandDataset(test_atom_list, test_natom_list, test_edge_index_list, test_edge_feats_list, test_y_list)\n",
    "val_data = LigandDataset(val_atom_list, val_natom_list, val_edge_index_list, val_edge_feats_list, val_y_list)"
   ]
  },
  {
   "cell_type": "code",
   "execution_count": 35,
   "id": "87417d0e-6859-479b-8e61-26b51629d0df",
   "metadata": {},
   "outputs": [],
   "source": [
    "train_loader = DataLoader(train_data, batch_size=100, shuffle=True)\n",
    "val_loader = DataLoader(val_data, batch_size=100, shuffle=True)\n",
    "test_loader = DataLoader(test_data, batch_size=100, shuffle=False)"
   ]
  },
  {
   "cell_type": "code",
   "execution_count": 36,
   "id": "a302459c-ad1d-47ad-a6fb-c240ca09b9c0",
   "metadata": {},
   "outputs": [],
   "source": [
    "def compute_batch_loss(inputs, labels, inds):\n",
    "    \"\"\" Computes batch loss by separating out the losses for each ligand. \"\"\"\n",
    "    graph_sizes = torch.tensor([(inds[i+1] - inds[i]) for i in range(len(inds)-1)], device=inputs.device)\n",
    "    segment_ids = torch.repeat_interleave(torch.arange(len(graph_sizes), device=inputs.device), graph_sizes)\n",
    "    loss_per_node = torch.nn.functional.binary_cross_entropy_with_logits(inputs, labels, reduction='none')\n",
    "    graph_losses = torch_scatter.scatter_mean(loss_per_node, segment_ids, dim=0)\n",
    "    return graph_losses.mean()"
   ]
  },
  {
   "cell_type": "code",
   "execution_count": 37,
   "id": "101e6c30-1867-446b-8b3f-a70e1722e28a",
   "metadata": {},
   "outputs": [
    {
     "name": "stdout",
     "output_type": "stream",
     "text": [
      "Epoch: 1 | Avg Train Loss: 0.487 | Avg Val Loss: 0.377\n",
      "Epoch: 2 | Avg Train Loss: 0.405 | Avg Val Loss: 0.354\n",
      "Epoch: 3 | Avg Train Loss: 0.389 | Avg Val Loss: 0.352\n",
      "Epoch: 4 | Avg Train Loss: 0.382 | Avg Val Loss: 0.352\n",
      "Epoch: 5 | Avg Train Loss: 0.378 | Avg Val Loss: 0.352\n",
      "Epoch: 6 | Avg Train Loss: 0.375 | Avg Val Loss: 0.352\n",
      "Epoch: 7 | Avg Train Loss: 0.372 | Avg Val Loss: 0.352\n",
      "Epoch: 8 | Avg Train Loss: 0.369 | Avg Val Loss: 0.346\n",
      "Epoch: 9 | Avg Train Loss: 0.363 | Avg Val Loss: 0.339\n",
      "Epoch: 10 | Avg Train Loss: 0.36 | Avg Val Loss: 0.336\n",
      "Epoch: 11 | Avg Train Loss: 0.358 | Avg Val Loss: 0.334\n",
      "Epoch: 12 | Avg Train Loss: 0.358 | Avg Val Loss: 0.334\n",
      "Epoch: 13 | Avg Train Loss: 0.355 | Avg Val Loss: 0.33\n",
      "Epoch: 14 | Avg Train Loss: 0.355 | Avg Val Loss: 0.329\n",
      "Epoch: 15 | Avg Train Loss: 0.355 | Avg Val Loss: 0.329\n",
      "Epoch: 16 | Avg Train Loss: 0.355 | Avg Val Loss: 0.33\n",
      "Epoch: 17 | Avg Train Loss: 0.355 | Avg Val Loss: 0.33\n",
      "Epoch: 18 | Avg Train Loss: 0.355 | Avg Val Loss: 0.33\n",
      "Epoch: 19 | Avg Train Loss: 0.355 | Avg Val Loss: 0.329\n",
      "Epoch: 20 | Avg Train Loss: 0.354 | Avg Val Loss: 0.328\n"
     ]
    }
   ],
   "source": [
    "gat = torch_geometric.nn.GAT(-1, 5, num_layers=3, out_channels=2, dropout=0.3)\n",
    "optimizer = torch.optim.Adam(gat.parameters(), lr=1e-3)\n",
    "\n",
    "num_epochs = 20\n",
    "gat.to(0)\n",
    "\n",
    "train_epoch_losses = []\n",
    "val_epoch_losses = []\n",
    "\n",
    "for epoch in range(num_epochs):\n",
    "    epoch_train_loss = 0\n",
    "    gat.train()\n",
    "    for i, batch in enumerate(train_loader):\n",
    "        batch.to(0)\n",
    "\n",
    "        out_probs = gat(x=batch.x, edge_index=batch.edge_index.to(torch.int64), edge_attr=batch.edge_attr)\n",
    "        loss = compute_batch_loss(out_probs, batch.y.to(torch.float64), batch.ptr)\n",
    "\n",
    "        optimizer.zero_grad()\n",
    "        loss.backward()\n",
    "        optimizer.step()\n",
    "        epoch_train_loss += loss.item()\n",
    "\n",
    "    epoch_train_loss = epoch_train_loss / (i+1)\n",
    "    train_epoch_losses.append(epoch_train_loss)\n",
    "    \n",
    "    epoch_val_loss = 0\n",
    "    gat.eval()\n",
    "    with torch.no_grad():\n",
    "        for i, batch in enumerate(val_loader):\n",
    "            batch.to(0)\n",
    "            out_probs = gat(x=batch.x, edge_index=batch.edge_index.to(torch.int64), edge_attr=batch.edge_attr)\n",
    "            loss = compute_batch_loss(out_probs, batch.y.to(torch.float64), batch.ptr)\n",
    "            epoch_val_loss += loss.item()\n",
    "    epoch_val_loss = epoch_val_loss / (i+1)\n",
    "    val_epoch_losses.append(epoch_val_loss)\n",
    "    \n",
    "    print(f'Epoch: {epoch+1} | Avg Train Loss: {epoch_train_loss:.3} | Avg Val Loss: {epoch_val_loss:.3}')"
   ]
  },
  {
   "cell_type": "code",
   "execution_count": 38,
   "id": "c38e4779-1318-4f3f-acc2-487a7ae6ec8d",
   "metadata": {},
   "outputs": [
    {
     "data": {
      "text/plain": [
       "<matplotlib.legend.Legend at 0x7fb98f46bca0>"
      ]
     },
     "execution_count": 38,
     "metadata": {},
     "output_type": "execute_result"
    },
    {
     "data": {
      "image/png": "[encoded data removed]",
      "text/plain": [
       "<Figure size 640x480 with 1 Axes>"
      ]
     },
     "metadata": {},
     "output_type": "display_data"
    }
   ],
   "source": [
    "plt.plot(range(num_epochs), train_epoch_losses, label='Train Loss')\n",
    "plt.plot(range(num_epochs), val_epoch_losses, label='Val Loss')\n",
    "plt.legend()"
   ]
  },
  {
   "cell_type": "code",
   "execution_count": 39,
   "id": "09ccb612-4e92-4af5-b2de-b5042ddc0553",
   "metadata": {},
   "outputs": [
    {
     "name": "stdout",
     "output_type": "stream",
     "text": [
      "Test Loss: 0.32769757766442414\n"
     ]
    }
   ],
   "source": [
    "gat.eval()\n",
    "test_loss = 0\n",
    "with torch.no_grad():\n",
    "    for i, batch in enumerate(test_loader):\n",
    "        batch.to(0)\n",
    "        out_probs = gat(x=batch.x, edge_index=batch.edge_index.to(torch.int64), edge_attr=batch.edge_attr)\n",
    "        loss = compute_batch_loss(out_probs, batch.y.to(torch.float64), batch.ptr)\n",
    "        test_loss += loss.item()\n",
    "    test_loss /= (i+1)\n",
    "print(f'Test Loss: {test_loss}')"
   ]
  },
  {
   "cell_type": "code",
   "execution_count": 94,
   "id": "0debbc5d-9b26-4892-8fd8-6b2a8b69980b",
   "metadata": {},
   "outputs": [
    {
     "name": "stdout",
     "output_type": "stream",
     "text": [
      "=================================================================\n",
      "Layer (type:depth-idx)                   Param #\n",
      "=================================================================\n",
      "├─ReLU: 1-1                              --\n",
      "├─ModuleList: 1-2                        --\n",
      "|    └─GATConv: 2-1                      --\n",
      "|    |    └─SumAggregation: 3-1          --\n",
      "|    |    └─Linear: 3-2                  20\n",
      "|    └─GATConv: 2-2                      --\n",
      "|    |    └─SumAggregation: 3-3          --\n",
      "|    |    └─Linear: 3-4                  4\n",
      "=================================================================\n",
      "Total params: 24\n",
      "Trainable params: 24\n",
      "Non-trainable params: 0\n",
      "=================================================================\n"
     ]
    },
    {
     "data": {
      "text/plain": [
       "=================================================================\n",
       "Layer (type:depth-idx)                   Param #\n",
       "=================================================================\n",
       "├─ReLU: 1-1                              --\n",
       "├─ModuleList: 1-2                        --\n",
       "|    └─GATConv: 2-1                      --\n",
       "|    |    └─SumAggregation: 3-1          --\n",
       "|    |    └─Linear: 3-2                  20\n",
       "|    └─GATConv: 2-2                      --\n",
       "|    |    └─SumAggregation: 3-3          --\n",
       "|    |    └─Linear: 3-4                  4\n",
       "=================================================================\n",
       "Total params: 24\n",
       "Trainable params: 24\n",
       "Non-trainable params: 0\n",
       "================================================================="
      ]
     },
     "execution_count": 94,
     "metadata": {},
     "output_type": "execute_result"
    }
   ],
   "source": [
    "summary(gat)"
   ]
  },
  {
   "cell_type": "code",
   "execution_count": null,
   "id": "181b2045-a9d0-47e3-8164-2473fbad6af5",
   "metadata": {},
   "outputs": [],
   "source": []
  }
 ],
 "metadata": {
  "kernelspec": {
   "display_name": "Python 3 (ipykernel)",
   "language": "python",
   "name": "python3"
  },
  "language_info": {
   "codemirror_mode": {
    "name": "ipython",
    "version": 3
   },
   "file_extension": ".py",
   "mimetype": "text/x-python",
   "name": "python",
   "nbconvert_exporter": "python",
   "pygments_lexer": "ipython3",
   "version": "3.9.15"
  }
 },
 "nbformat": 4,
 "nbformat_minor": 5
}
