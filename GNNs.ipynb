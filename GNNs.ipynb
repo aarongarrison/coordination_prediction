{
 "cells": [
  {
   "cell_type": "code",
   "execution_count": 1,
   "id": "afc48223-a825-4a79-802e-cb9c866c3c76",
   "metadata": {},
   "outputs": [],
   "source": [
    "import numpy as np\n",
    "import matplotlib.pyplot as plt\n",
    "import pandas as pd\n",
    "from tqdm import tqdm\n",
    "import pickle\n",
    "\n",
    "import torch\n",
    "from torch_geometric.data import Data\n",
    "from torch_geometric.loader import DataLoader\n",
    "import torch_geometric\n",
    "from torchsummary import summary\n",
    "import torch_scatter\n",
    "\n",
    "from rdkit import Chem\n",
    "from rdkit.Chem import Descriptors, rdmolops\n",
    "\n",
    "from sklearn.model_selection import train_test_split\n",
    "\n",
    "# Load data\n",
    "with open('data/filtered_labels.pkl', 'rb') as f:\n",
    "    filtered_labels = pickle.load(f)\n",
    "with open('data/filtered_mol_ls.pkl', 'rb') as f:\n",
    "    filtered_mol_ls = pickle.load(f)"
   ]
  },
  {
   "cell_type": "markdown",
   "id": "42a888c5-96cc-4fb4-8047-2ed8ae1b0d6a",
   "metadata": {},
   "source": [
    "# Do not run until it says you should"
   ]
  },
  {
   "cell_type": "code",
   "execution_count": 2,
   "id": "f9be90ed-474e-4203-b773-5f4127ffd2d0",
   "metadata": {},
   "outputs": [],
   "source": [
    "def normalize_bw_neg1and1(dictionary: dict):\n",
    "    values = list(dictionary.values())\n",
    "    for k, v in dictionary.items():\n",
    "        dictionary[k] = 2*(v - min(values))/(max(values) - min(values)) - 1\n",
    "    return dictionary"
   ]
  },
  {
   "cell_type": "code",
   "execution_count": 3,
   "id": "59481655-38d1-4f42-85a3-d8e0fdaf95fe",
   "metadata": {},
   "outputs": [
    {
     "name": "stderr",
     "output_type": "stream",
     "text": [
      "100%|██████████| 42026/42026 [00:12<00:00, 3409.16it/s]\n"
     ]
    },
    {
     "data": {
      "text/plain": [
       "(41996, 30)"
      ]
     },
     "execution_count": 3,
     "metadata": {},
     "output_type": "execute_result"
    }
   ],
   "source": [
    "order_string = {\n",
    "            Chem.rdchem.BondType.SINGLE: np.array([1, 0, 0, 0]),\n",
    "            Chem.rdchem.BondType.DOUBLE: np.array([0, 1, 0, 0]),\n",
    "            Chem.rdchem.BondType.TRIPLE: np.array([0, 0, 1, 0]),\n",
    "            Chem.rdchem.BondType.AROMATIC: np.array([0, 0, 0, 1]),\n",
    "}\n",
    "\n",
    "pt = Chem.GetPeriodicTable()\n",
    "\n",
    "allowed_atoms = [1, 6, 7, 8, 9, 15, 16, 17, 35, 53] #H, C, N, O, F, P, S, Cl, Br, I\n",
    "atoms_one_hot_key = np.eye(len(allowed_atoms))\n",
    "\n",
    "electronegativities = {\n",
    "    1: 2.2,\n",
    "    6: 2.55,\n",
    "    7: 3.04,\n",
    "    8: 3.44,\n",
    "    9: 3.98,\n",
    "    15: 2.19,\n",
    "    16: 2.58,\n",
    "    17: 3.16,\n",
    "    35: 2.96,\n",
    "    53: 2.66\n",
    "}\n",
    "\n",
    "ionization_energies = {\n",
    "    1: 13.6,\n",
    "    6: 11.3,\n",
    "    7: 14.5,\n",
    "    8: 13.6,\n",
    "    9: 17.4,\n",
    "    15: 10.5,\n",
    "    16: 10.4,\n",
    "    17: 13.0,\n",
    "    35: 11.8,\n",
    "    53: 10.45\n",
    "}\n",
    "\n",
    "valence_electrons = {\n",
    "    1:  1,\n",
    "    6:  4,\n",
    "    7:  5,\n",
    "    8:  6,\n",
    "    9:  7,\n",
    "    15: 5,\n",
    "    16: 6,\n",
    "    17: 7,\n",
    "    35: 7,\n",
    "    53: 7\n",
    "}\n",
    "\n",
    "covalent_radii = {i: pt.GetRcovalent(i) for i in allowed_atoms}\n",
    "atomic_mass = {i: pt.GetAtomicWeight(i) for i in allowed_atoms}\n",
    "\n",
    "def normalize_bw_neg1and1(dictionary: dict):\n",
    "    values = list(dictionary.values())\n",
    "    for k, v in dictionary.items():\n",
    "        dictionary[k] = 2*(v - min(values))/(max(values) - min(values)) - 1\n",
    "    return dictionary\n",
    "\n",
    "electronegativities = normalize_bw_neg1and1(electronegativities)\n",
    "ionization_energies = normalize_bw_neg1and1(ionization_energies)\n",
    "valence_electrons = normalize_bw_neg1and1(valence_electrons)\n",
    "covalent_radii = normalize_bw_neg1and1(covalent_radii)\n",
    "atomic_mass = normalize_bw_neg1and1(atomic_mass)\n",
    "\n",
    "def get_features(ligand, label):\n",
    "    #Get a list of atomic numbers for each ligand\n",
    "    atoms_one_hot = np.stack([atoms_one_hot_key[allowed_atoms.index(a.GetAtomicNum())] for a in ligand.GetAtoms()])\n",
    "    other_atom_features = [[electronegativities[a.GetAtomicNum()],\n",
    "                            ionization_energies[a.GetAtomicNum()],\n",
    "                            valence_electrons[a.GetAtomicNum()],\n",
    "                            covalent_radii[a.GetAtomicNum()],\n",
    "                            atomic_mass[a.GetAtomicNum()]] for a in ligand.GetAtoms()]\n",
    "    atom_features = np.hstack((atoms_one_hot, np.array(other_atom_features)))\n",
    "    \n",
    "    \n",
    "    #Get the number of atoms for each ligand\n",
    "    natoms = len(ligand.GetAtoms())\n",
    "    \n",
    "    #Get the adjacency matrix for each ligand\n",
    "    adj = rdmolops.GetAdjacencyMatrix(ligand)\n",
    "    \n",
    "    #Get the edge index list in COO format for each ligand\n",
    "    edge_index = (adj>0).nonzero()\n",
    "    \n",
    "    #Get the edge features (one-hot encoding of the bond type\n",
    "    feats = np.zeros((4, len(edge_index[0])))\n",
    "    for i in range(len(edge_index[0])):\n",
    "        feats[:, i] = order_string[ligand.GetBondBetweenAtoms(int(edge_index[0][i]), int(edge_index[1][i])).GetBondType()]\n",
    "    edge_feats = feats.T\n",
    "\n",
    "    #Get the probability of each atom being a connecting atom (0 or 1)\n",
    "    y = np.zeros(natoms)\n",
    "    y[np.array(label)] = 1\n",
    "\n",
    "    return atom_features, natoms, edge_index, edge_feats, y\n",
    "\n",
    "atom_features_list = []\n",
    "natom_list = []\n",
    "edge_index_list = []\n",
    "edge_feats_list = []\n",
    "y_list = []\n",
    "num_failed = 0\n",
    "\n",
    "for idx in tqdm(range(len(filtered_mol_ls))):\n",
    "    ligand = filtered_mol_ls[idx]\n",
    "    label = filtered_labels[idx]\n",
    "    try:\n",
    "        atom_features, natoms, edge_index, edge_feats, y = get_features(ligand, label)\n",
    "        atom_features_list.append(atom_features)\n",
    "        natom_list.append(natoms)\n",
    "        edge_index_list.append(edge_index)\n",
    "        edge_feats_list.append(edge_feats)\n",
    "        y_list.append(y)\n",
    "    except:\n",
    "        num_failed += 1\n",
    "\n",
    "len(atom_features_list), num_failed"
   ]
  },
  {
   "cell_type": "code",
   "execution_count": 4,
   "id": "6b8bc4b0-f47f-43d4-b2e8-798b0c4ec87e",
   "metadata": {},
   "outputs": [],
   "source": [
    "# train/test\n",
    "(train_atom_list, test_atom_list,\n",
    " train_natom_list, test_natom_list,\n",
    " train_edge_index_list, test_edge_index_list,\n",
    " train_edge_feats_list, test_edge_feats_list,\n",
    " train_y_list, test_y_list) = train_test_split(atom_features_list,\n",
    "                                               natom_list,\n",
    "                                               edge_index_list,\n",
    "                                               edge_feats_list,\n",
    "                                               y_list,\n",
    "                                               test_size=0.1, shuffle=True)\n",
    "# split train further into train + val\n",
    "(train_atom_list, val_atom_list,\n",
    " train_natom_list, val_natom_list,\n",
    " train_edge_index_list, val_edge_index_list,\n",
    " train_edge_feats_list, val_edge_feats_list,\n",
    " train_y_list, val_y_list) = train_test_split(train_atom_list,\n",
    "                                              train_natom_list,\n",
    "                                              train_edge_index_list,\n",
    "                                              train_edge_feats_list,\n",
    "                                              train_y_list,\n",
    "                                              test_size=1/9, shuffle=True)"
   ]
  },
  {
   "cell_type": "code",
   "execution_count": null,
   "id": "0e588d84-224f-4b64-8d9a-5238bb0fe02b",
   "metadata": {},
   "outputs": [],
   "source": [
    "class LigandDataset():\n",
    "    def __init__(self, atom_list, natom_list, edge_index_list, edge_feats_list, y_list):\n",
    "        self.atom_list = atom_list\n",
    "        self.natom_list = natom_list\n",
    "        self.edge_index_list = edge_index_list\n",
    "        self.edge_feats_list = edge_feats_list\n",
    "        self.y_list = y_list\n",
    "        \n",
    "    def __len__(self):\n",
    "        return len(self.atom_list)\n",
    "        \n",
    "    def __getitem__(self, idx):\n",
    "        return Data(x=torch.Tensor(self.atom_list[idx]),\n",
    "                    natoms=torch.Tensor([self.natom_list[idx]]),\n",
    "                    edge_index=torch.Tensor(np.array(self.edge_index_list[idx])),\n",
    "                    edge_attr=torch.Tensor(self.edge_feats_list[idx]),\n",
    "                    y=torch.Tensor(self.y_list[idx]).unsqueeze(1).to(torch.long)\n",
    "                    # y=torch.nn.functional.one_hot(torch.Tensor(self.y_list[idx]).to(torch.long), num_classes=2) # one-hot\n",
    "                   )\n",
    "\n",
    "train_data = LigandDataset(train_atom_list, train_natom_list, train_edge_index_list, train_edge_feats_list, train_y_list)\n",
    "test_data = LigandDataset(test_atom_list, test_natom_list, test_edge_index_list, test_edge_feats_list, test_y_list)\n",
    "val_data = LigandDataset(val_atom_list, val_natom_list, val_edge_index_list, val_edge_feats_list, val_y_list)"
   ]
  },
  {
   "cell_type": "markdown",
   "id": "9ff97141-1374-4b64-9241-8ccdbd5f876e",
   "metadata": {},
   "source": [
    "# Start Here"
   ]
  },
  {
   "cell_type": "code",
   "execution_count": 33,
   "id": "6052d602-62e2-42f6-9ca7-16f8a1adc853",
   "metadata": {},
   "outputs": [],
   "source": [
    "class LigandDataset():\n",
    "    def __init__(self, atom_list, natom_list, edge_index_list, edge_feats_list, y_list, denticities_list):\n",
    "        self.atom_list = atom_list\n",
    "        self.natom_list = natom_list\n",
    "        self.edge_index_list = edge_index_list\n",
    "        self.edge_feats_list = edge_feats_list\n",
    "        self.y_list = y_list\n",
    "        self.denticities_list = denticities_list\n",
    "        \n",
    "    def __len__(self):\n",
    "        return len(self.atom_list)\n",
    "        \n",
    "    def __getitem__(self, idx):\n",
    "        return Data(x=torch.Tensor(self.atom_list[idx]),\n",
    "                    natoms=torch.Tensor([self.natom_list[idx]]),\n",
    "                    edge_index=torch.Tensor(np.array(self.edge_index_list[idx])),\n",
    "                    edge_attr=torch.Tensor(self.edge_feats_list[idx]),\n",
    "                    # y=torch.Tensor(self.y_list[idx]).unsqueeze(1).to(torch.long),\n",
    "                    denticity=torch.Tensor([self.denticities_list[idx]]),\n",
    "                    y=torch.nn.functional.one_hot(torch.Tensor(self.y_list[idx]).to(torch.long), num_classes=2) # one-hot\n",
    "                   )\n",
    "\n",
    "train_data = torch.load('data/train_dataset.pt')\n",
    "test_data = torch.load('data/test_dataset.pt')\n",
    "val_data = torch.load('data/val_dataset.pt')"
   ]
  },
  {
   "cell_type": "code",
   "execution_count": 34,
   "id": "87417d0e-6859-479b-8e61-26b51629d0df",
   "metadata": {},
   "outputs": [],
   "source": [
    "train_loader = DataLoader(train_data, batch_size=100, shuffle=True)\n",
    "val_loader = DataLoader(val_data, batch_size=100, shuffle=True)\n",
    "test_loader = DataLoader(test_data, batch_size=100, shuffle=False)"
   ]
  },
  {
   "cell_type": "code",
   "execution_count": 54,
   "id": "a302459c-ad1d-47ad-a6fb-c240ca09b9c0",
   "metadata": {},
   "outputs": [],
   "source": [
    "def compute_batch_loss(preds: torch.Tensor, labels: torch.Tensor, inds: torch.Tensor):\n",
    "    \"\"\" \n",
    "    Computes a cross-entropy loss for each atom.\n",
    "    Then, computes the mean of that loss for each ligand, and then across all ligands in the batch\n",
    "    Parameters\n",
    "    ----------\n",
    "    preds : torch.Tensor (N,1)\n",
    "        Atom-wise predicted logits for not-being or being a coordinating atom\n",
    "    labels : torch.Tensor (N,1)\n",
    "        Atom-wise labels for whether it isn't or is a coordinating atom\n",
    "    inds : torch.Tensor (batch_size+1)\n",
    "        The indices defining the ligands within each batch. Uses the batch.ptr generated by the torch_geometric dataloader.\n",
    "    \"\"\"\n",
    "    graph_sizes = torch.tensor([(inds[i+1] - inds[i]) for i in range(len(inds)-1)], device=preds.device)\n",
    "    segment_ids = torch.repeat_interleave(torch.arange(len(graph_sizes), device=preds.device), graph_sizes)\n",
    "    loss_per_node = torch.nn.functional.binary_cross_entropy(preds, labels, reduction='none',\n",
    "                                                             weight=torch.Tensor([1/30, 10]).to(0))\n",
    "    graph_losses = torch_scatter.scatter_mean(loss_per_node, segment_ids, dim=0)\n",
    "    return graph_losses.mean()"
   ]
  },
  {
   "cell_type": "code",
   "execution_count": 59,
   "id": "101e6c30-1867-446b-8b3f-a70e1722e28a",
   "metadata": {},
   "outputs": [
    {
     "name": "stdout",
     "output_type": "stream",
     "text": [
      "Val Loss for all 0 predictions: 61.5\n",
      "Val Loss for opposite predictions: 5.02e+02\n",
      "Epoch: 1 | Avg Train Loss: 22.3 | Avg Val Loss: 1.9\n",
      "Epoch: 2 | Avg Train Loss: 5.39 | Avg Val Loss: 1.79\n",
      "Epoch: 3 | Avg Train Loss: 2.96 | Avg Val Loss: 1.73\n",
      "Epoch: 4 | Avg Train Loss: 2.26 | Avg Val Loss: 1.75\n",
      "Epoch: 5 | Avg Train Loss: 1.88 | Avg Val Loss: 1.7\n",
      "Epoch: 6 | Avg Train Loss: 1.89 | Avg Val Loss: 1.68\n",
      "Epoch: 7 | Avg Train Loss: 1.93 | Avg Val Loss: 1.7\n",
      "Epoch: 8 | Avg Train Loss: 1.83 | Avg Val Loss: 1.69\n",
      "Epoch: 9 | Avg Train Loss: 1.84 | Avg Val Loss: 1.68\n",
      "Epoch: 10 | Avg Train Loss: 1.85 | Avg Val Loss: 1.67\n",
      "Epoch: 11 | Avg Train Loss: 1.85 | Avg Val Loss: 1.67\n",
      "Epoch: 12 | Avg Train Loss: 1.86 | Avg Val Loss: 1.66\n",
      "Epoch: 13 | Avg Train Loss: 1.92 | Avg Val Loss: 1.66\n",
      "Epoch: 14 | Avg Train Loss: 1.9 | Avg Val Loss: 1.65\n",
      "Epoch: 15 | Avg Train Loss: 1.92 | Avg Val Loss: 1.64\n",
      "Epoch: 16 | Avg Train Loss: 1.89 | Avg Val Loss: 1.63\n",
      "Epoch: 17 | Avg Train Loss: 1.94 | Avg Val Loss: 1.63\n",
      "Epoch: 18 | Avg Train Loss: 1.95 | Avg Val Loss: 1.63\n",
      "Epoch: 19 | Avg Train Loss: 1.92 | Avg Val Loss: 1.62\n",
      "Epoch: 20 | Avg Train Loss: 1.94 | Avg Val Loss: 1.62\n"
     ]
    }
   ],
   "source": [
    "gat = torch_geometric.nn.GAT(-1, 10, num_layers=2, out_channels=2, dropout=0.5)\n",
    "optimizer = torch.optim.Adam(gat.parameters(), lr=1e-3)\n",
    "scheduler = torch.optim.lr_scheduler.ExponentialLR(optimizer, gamma=0.9)\n",
    "\n",
    "num_epochs = 20\n",
    "gat.to(0)\n",
    "\n",
    "train_epoch_losses = []\n",
    "val_epoch_losses = []\n",
    "\n",
    "# what is the loss if we predict 0s for everything\n",
    "pred_0_loss_val = 0\n",
    "pred_opp_loss_val = 0\n",
    "with torch.no_grad():\n",
    "    for i, batch in enumerate(val_loader):\n",
    "        batch.to(0)\n",
    "        out_probs = torch.zeros(batch.y.shape, dtype=torch.float64).to(0)\n",
    "        loss = compute_batch_loss(out_probs, batch.y.to(torch.float64), batch.ptr)\n",
    "        pred_0_loss_val += loss.item()\n",
    "pred_0_loss_val = pred_0_loss_val / (i+1)\n",
    "with torch.no_grad():\n",
    "    for i, batch in enumerate(val_loader):\n",
    "        batch.to(0)\n",
    "        out_probs = 1-batch.y.to(torch.float64).to(0)\n",
    "        loss = compute_batch_loss(out_probs, batch.y.to(torch.float64), batch.ptr)\n",
    "        pred_opp_loss_val += loss.item()\n",
    "pred_opp_loss_val = pred_opp_loss_val / (i+1)\n",
    "print(f'Val Loss for all 0 predictions: {pred_0_loss_val:.3}')\n",
    "print(f'Val Loss for opposite predictions: {pred_opp_loss_val:.3}')\n",
    "\n",
    "\n",
    "for epoch in range(num_epochs):\n",
    "    epoch_train_loss = 0\n",
    "    gat.train()\n",
    "    for i, batch in enumerate(train_loader):\n",
    "        batch.to(0)\n",
    "\n",
    "        out_logits = gat(x=batch.x, edge_index=batch.edge_index.to(torch.int64), edge_attr=batch.edge_attr)\n",
    "        out_probs = torch.nn.functional.sigmoid(out_logits)\n",
    "        # out_probs = torch.nn.functional.relu(out_probs - torch.Tensor([0.5]).to(0))*torch.Tensor([2.]).to(0)\n",
    "        loss = compute_batch_loss(out_probs, batch.y.to(torch.float32), batch.ptr)\n",
    "\n",
    "        optimizer.zero_grad()\n",
    "        loss.backward()\n",
    "        optimizer.step()\n",
    "        epoch_train_loss += loss.item()\n",
    "    scheduler.step()\n",
    "\n",
    "    epoch_train_loss = epoch_train_loss / (i+1)\n",
    "    train_epoch_losses.append(epoch_train_loss)\n",
    "    \n",
    "    epoch_val_loss = 0\n",
    "    gat.eval()\n",
    "    with torch.no_grad():\n",
    "        for i, batch in enumerate(val_loader):\n",
    "            batch.to(0)\n",
    "            out_logits = gat(x=batch.x, edge_index=batch.edge_index.to(torch.int64), edge_attr=batch.edge_attr)\n",
    "            out_probs = torch.nn.functional.sigmoid(out_logits)\n",
    "            # out_probs = torch.nn.functional.relu(out_probs - torch.Tensor([0.5]).to(0))*torch.Tensor([2.]).to(0)\n",
    "            loss = compute_batch_loss(out_probs, batch.y.to(torch.float32), batch.ptr)\n",
    "            epoch_val_loss += loss.item()\n",
    "    epoch_val_loss = epoch_val_loss / (i+1)\n",
    "    val_epoch_losses.append(epoch_val_loss)\n",
    "    \n",
    "    print(f'Epoch: {epoch+1} | Avg Train Loss: {epoch_train_loss:.3} | Avg Val Loss: {epoch_val_loss:.3}')"
   ]
  },
  {
   "cell_type": "code",
   "execution_count": 60,
   "id": "d3a83513-582f-459b-ade3-a8445bb14f59",
   "metadata": {},
   "outputs": [
    {
     "data": {
      "text/plain": [
       "(array([  1.,   0.,   0.,  15.,   7., 339., 114., 183., 163.,  79., 100.,\n",
       "        132.,  68.,  71.,  97.,  78.,  29.,  29.,   8.,   8.]),\n",
       " array([0.00909388, 0.0213405 , 0.03358712, 0.04583374, 0.05808036,\n",
       "        0.07032698, 0.08257361, 0.09482022, 0.10706685, 0.11931346,\n",
       "        0.13156009, 0.14380671, 0.15605333, 0.16829994, 0.18054657,\n",
       "        0.19279319, 0.20503981, 0.21728644, 0.22953305, 0.24177967,\n",
       "        0.25402629]),\n",
       " <BarContainer object of 20 artists>)"
      ]
     },
     "execution_count": 60,
     "metadata": {},
     "output_type": "execute_result"
    },
    {
     "data": {
      "image/png": "[encoded data removed]",
      "text/plain": [
       "<Figure size 640x480 with 1 Axes>"
      ]
     },
     "metadata": {},
     "output_type": "display_data"
    }
   ],
   "source": [
    "plt.hist(out_probs[:,1].detach().cpu().numpy(), 20)"
   ]
  },
  {
   "cell_type": "code",
   "execution_count": 61,
   "id": "c38e4779-1318-4f3f-acc2-487a7ae6ec8d",
   "metadata": {},
   "outputs": [
    {
     "data": {
      "text/plain": [
       "<matplotlib.legend.Legend at 0x7f5ee0e79310>"
      ]
     },
     "execution_count": 61,
     "metadata": {},
     "output_type": "execute_result"
    },
    {
     "data": {
      "image/png": "[encoded data removed]",
      "text/plain": [
       "<Figure size 640x480 with 1 Axes>"
      ]
     },
     "metadata": {},
     "output_type": "display_data"
    }
   ],
   "source": [
    "plt.plot(range(num_epochs), train_epoch_losses, label='Train Loss')\n",
    "plt.plot(range(num_epochs), val_epoch_losses, label='Val Loss')\n",
    "plt.legend()"
   ]
  },
  {
   "cell_type": "code",
   "execution_count": 12,
   "id": "09ccb612-4e92-4af5-b2de-b5042ddc0553",
   "metadata": {},
   "outputs": [
    {
     "name": "stdout",
     "output_type": "stream",
     "text": [
      "Test Loss: 0.30381448690483726\n"
     ]
    }
   ],
   "source": [
    "gat.eval()\n",
    "test_loss = 0\n",
    "with torch.no_grad():\n",
    "    for i, batch in enumerate(test_loader):\n",
    "        batch.to(0)\n",
    "        out_probs = gat(x=batch.x, edge_index=batch.edge_index.to(torch.int64), edge_attr=batch.edge_attr)\n",
    "        loss = compute_batch_loss(out_probs, batch.y.to(torch.float64), batch.ptr)\n",
    "        test_loss += loss.item()\n",
    "    test_loss /= (i+1)\n",
    "print(f'Test Loss: {test_loss}')"
   ]
  },
  {
   "cell_type": "code",
   "execution_count": 94,
   "id": "0debbc5d-9b26-4892-8fd8-6b2a8b69980b",
   "metadata": {},
   "outputs": [
    {
     "name": "stdout",
     "output_type": "stream",
     "text": [
      "=================================================================\n",
      "Layer (type:depth-idx)                   Param #\n",
      "=================================================================\n",
      "├─ReLU: 1-1                              --\n",
      "├─ModuleList: 1-2                        --\n",
      "|    └─GATConv: 2-1                      --\n",
      "|    |    └─SumAggregation: 3-1          --\n",
      "|    |    └─Linear: 3-2                  20\n",
      "|    └─GATConv: 2-2                      --\n",
      "|    |    └─SumAggregation: 3-3          --\n",
      "|    |    └─Linear: 3-4                  4\n",
      "=================================================================\n",
      "Total params: 24\n",
      "Trainable params: 24\n",
      "Non-trainable params: 0\n",
      "=================================================================\n"
     ]
    },
    {
     "data": {
      "text/plain": [
       "=================================================================\n",
       "Layer (type:depth-idx)                   Param #\n",
       "=================================================================\n",
       "├─ReLU: 1-1                              --\n",
       "├─ModuleList: 1-2                        --\n",
       "|    └─GATConv: 2-1                      --\n",
       "|    |    └─SumAggregation: 3-1          --\n",
       "|    |    └─Linear: 3-2                  20\n",
       "|    └─GATConv: 2-2                      --\n",
       "|    |    └─SumAggregation: 3-3          --\n",
       "|    |    └─Linear: 3-4                  4\n",
       "=================================================================\n",
       "Total params: 24\n",
       "Trainable params: 24\n",
       "Non-trainable params: 0\n",
       "================================================================="
      ]
     },
     "execution_count": 94,
     "metadata": {},
     "output_type": "execute_result"
    }
   ],
   "source": [
    "summary(gat)"
   ]
  },
  {
   "cell_type": "code",
   "execution_count": null,
   "id": "181b2045-a9d0-47e3-8164-2473fbad6af5",
   "metadata": {},
   "outputs": [],
   "source": []
  }
 ],
 "metadata": {
  "kernelspec": {
   "display_name": "Python 3 (ipykernel)",
   "language": "python",
   "name": "python3"
  },
  "language_info": {
   "codemirror_mode": {
    "name": "ipython",
    "version": 3
   },
   "file_extension": ".py",
   "mimetype": "text/x-python",
   "name": "python",
   "nbconvert_exporter": "python",
   "pygments_lexer": "ipython3",
   "version": "3.9.15"
  }
 },
 "nbformat": 4,
 "nbformat_minor": 5
}
